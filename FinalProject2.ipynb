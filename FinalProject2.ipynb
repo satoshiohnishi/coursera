{
 "cells": [
  {
   "cell_type": "markdown",
   "id": "b735f895",
   "metadata": {
    "deletable": false,
    "editable": false,
    "nbgrader": {
     "cell_type": "markdown",
     "checksum": "556d9673a40cef731438819650b4afeb",
     "grade": false,
     "grade_id": "cell-3fab386f48bbd974",
     "locked": true,
     "schema_version": 3,
     "solution": false,
     "task": false
    }
   },
   "source": [
    "# Limitations of sklearn’s non-negative matrix factorization library\n",
    "\n",
    "### Contents\n",
    "1. The caliculation of the RMSE recomender system which is based on the NMF\n",
    "2. The limitations of the sklearn’s NMF and conclusion\n",
    "---"
   ]
  },
  {
   "cell_type": "markdown",
   "id": "d9be887b",
   "metadata": {},
   "source": [
    "### 1. The caliculation of the RMSE recomender system which is based on the NMFIntroduction\n",
    "Previousery, we build the recommendation system based on jaccard similarity. \n",
    "In this project, we will build a recommendation system based on matrix factorization.\n",
    "How it performs? Let's build it and see."
   ]
  },
  {
   "cell_type": "code",
   "execution_count": 1,
   "metadata": {
    "deletable": false,
    "editable": false,
    "id": "ordered-pasta",
    "nbgrader": {
     "cell_type": "code",
     "checksum": "deb30e3992bd6264bc0999a631f4f249",
     "grade": false,
     "grade_id": "cell-aae50706a878da7b",
     "locked": true,
     "schema_version": 3,
     "solution": false,
     "task": false
    }
   },
   "outputs": [],
   "source": [
    "import pandas as pd\n",
    "import numpy as np\n",
    "from sklearn.decomposition import NMF\n",
    "from sklearn.metrics import mean_squared_error\n",
    "from sklearn.impute import SimpleImputer"
   ]
  },
  {
   "cell_type": "code",
   "execution_count": 2,
   "metadata": {
    "deletable": false,
    "editable": false,
    "id": "forbidden-patrol",
    "nbgrader": {
     "cell_type": "code",
     "checksum": "7d54524a953add3d7536b6f813e910b6",
     "grade": false,
     "grade_id": "cell-0349e5e5a7302cd2",
     "locked": true,
     "schema_version": 3,
     "solution": false,
     "task": false
    }
   },
   "outputs": [],
   "source": [
    "# Loarding data\n",
    "MV_users = pd.read_csv('data/users.csv')\n",
    "MV_movies = pd.read_csv('data/movies.csv')\n",
    "train = pd.read_csv('data/train.csv')\n",
    "test = pd.read_csv('data/test.csv')"
   ]
  },
  {
   "cell_type": "code",
   "execution_count": 3,
   "metadata": {
    "deletable": false,
    "nbgrader": {
     "cell_type": "code",
     "checksum": "b4abf73a9c24337560f0e0557bb0f7df",
     "grade": false,
     "grade_id": "cell-dcce43bb9bf942c0",
     "locked": false,
     "schema_version": 3,
     "solution": true,
     "task": false
    }
   },
   "outputs": [],
   "source": [
    "# Macke userID and movieID pivot table(matrix table)\n",
    "rating_matrix = train.pivot(index='uID', columns='mID', values='rating')"
   ]
  },
  {
   "cell_type": "code",
   "execution_count": 4,
   "id": "49541474",
   "metadata": {},
   "outputs": [
    {
     "name": "stdout",
     "output_type": "stream",
     "text": [
      "Number of users: 6040\n",
      "Number of movies: 3664\n",
      "Number of missing values: 21430414\n",
      "Number of missing values: 96.8 %\n"
     ]
    }
   ],
   "source": [
    "# Print whow many users and movies\n",
    "print('Number of users:', rating_matrix.shape[0])\n",
    "print('Number of movies:', rating_matrix.shape[1])\n",
    "# print missing values\n",
    "print('Number of missing values:', rating_matrix.isnull().sum().sum())\n",
    "# print missing values per all matrix\n",
    "print('Number of missing values:', round(rating_matrix.isnull().sum().sum() / (rating_matrix.shape[0] * rating_matrix.shape[1]) * 100, 1), '%')"
   ]
  },
  {
   "cell_type": "code",
   "execution_count": 5,
   "metadata": {
    "deletable": false,
    "nbgrader": {
     "cell_type": "code",
     "checksum": "7a026cf9b5831deeb187d3b6279c2cbd",
     "grade": false,
     "grade_id": "cell-a182891914c1787d",
     "locked": false,
     "schema_version": 3,
     "solution": true,
     "task": false
    }
   },
   "outputs": [],
   "source": [
    "# Filling missing values with mean value\n",
    "imputer = SimpleImputer(strategy='mean')\n",
    "rating_matrix_imputed = imputer.fit_transform(rating_matrix)"
   ]
  },
  {
   "cell_type": "code",
   "execution_count": 6,
   "id": "b704dba7",
   "metadata": {},
   "outputs": [
    {
     "name": "stderr",
     "output_type": "stream",
     "text": [
      "c:\\Users\\s-ohn\\AppData\\Local\\Programs\\Python\\Python38\\lib\\site-packages\\sklearn\\decomposition\\_nmf.py:1710: ConvergenceWarning: Maximum number of iterations 500 reached. Increase it to improve convergence.\n",
      "  warnings.warn(\n"
     ]
    }
   ],
   "source": [
    "# NMF transformation with 10 components\n",
    "nmf_model = NMF(n_components=50, init='random', random_state=42, max_iter=500)\n",
    "W = nmf_model.fit_transform(rating_matrix_imputed)\n",
    "H = nmf_model.components_"
   ]
  },
  {
   "cell_type": "code",
   "execution_count": 7,
   "metadata": {
    "deletable": false,
    "nbgrader": {
     "cell_type": "code",
     "checksum": "f47665d2983a53c6a92c098e5070fc63",
     "grade": false,
     "grade_id": "cell-82b20e00978bc5e6",
     "locked": false,
     "schema_version": 3,
     "solution": true,
     "task": false
    }
   },
   "outputs": [],
   "source": [
    "# generate predicted ratings\n",
    "predicted_ratings = np.dot(W, H)"
   ]
  },
  {
   "cell_type": "code",
   "execution_count": 8,
   "metadata": {
    "deletable": false,
    "editable": false,
    "nbgrader": {
     "cell_type": "code",
     "checksum": "cf8892a7991eab729501b9f12fa11ae1",
     "grade": false,
     "grade_id": "cell-e59b3dddfdc36871",
     "locked": true,
     "schema_version": 3,
     "solution": false,
     "task": false
    }
   },
   "outputs": [
    {
     "name": "stdout",
     "output_type": "stream",
     "text": [
      "RMSE: 1.5218\n"
     ]
    }
   ],
   "source": [
    "# Calculate RMSE of test data from the predicted ratings\n",
    "test_ratings = []\n",
    "predicted_test_ratings = []\n",
    "\n",
    "for _, row in test.iterrows():\n",
    "    user_idx = row['uID'] - 1  \n",
    "    movie_idx = row['mID'] - 1\n",
    "    actual_rating = row['rating']\n",
    "    # Check if the indices are within the valid range\n",
    "    if user_idx < predicted_ratings.shape[0] and movie_idx < predicted_ratings.shape[1]:\n",
    "        predicted_rating = predicted_ratings[user_idx, movie_idx]\n",
    "    else:\n",
    "        predicted_rating = 0  # or any other appropriate value for out-of-bounds indices\n",
    "    \n",
    "    test_ratings.append(actual_rating)\n",
    "    predicted_test_ratings.append(predicted_rating)\n",
    "\n",
    "# Calculate RMSE\n",
    "rmse = mean_squared_error(test_ratings, predicted_test_ratings, squared=False)\n",
    "print(f\"RMSE: {rmse:.4f}\")"
   ]
  },
  {
   "cell_type": "markdown",
   "metadata": {
    "deletable": false,
    "editable": false,
    "nbgrader": {
     "cell_type": "markdown",
     "checksum": "246f7bd7bd4cacc06d3d8e7b0811e06b",
     "grade": false,
     "grade_id": "cell-2dee0f590af15ca1",
     "locked": true,
     "schema_version": 3,
     "solution": false,
     "task": false
    }
   },
   "source": [
    "---\n",
    "### 2 The limitations of the sklearn’s NMF and conclusion\n",
    "RESM of the NMF model is 1.52.  \n",
    "\n",
    "The results of the RMSE of models of week 3 is next:\n",
    "\n",
    "|Method|RMSE|\n",
    "|:----|:--------:|\n",
    "|Baseline, $Y_p$=3| 1.26 |\n",
    "|Baseline, $Y_p=\\mu_u$| 1.04 |\n",
    "|Content based, item-item| 1.01 |\n",
    "|Collaborative, cosine| 1.03 |\n",
    "|Collaborative, jaccard, $M_r\\geq 3$|0.98 |\n",
    "|Collaborative, jaccard, $M_r\\geq 1$| 0.99 |\n",
    "|Collaborative, jaccard, $M_r$| 0.95 |"
   ]
  },
  {
   "cell_type": "markdown",
   "id": "2ece34cb",
   "metadata": {},
   "source": [
    "The RMSE of the NMF is worst. Why?\n",
    "\n",
    "Befor I mention the reason, I will show the features of the data.\n",
    "\n",
    "Number of users: 6040\n",
    "Number of movies: 3664\n",
    "Number of missing values: 21430414\n",
    "Number of missing values: 96.8 %\n",
    "\n",
    "The data has 96.8% missing values in the users vs movies matrix.\n",
    "The algorithm of NMF fills the missing values with the mean value of the matrix. \n",
    "The missing values are too many, so filling with the mean value afects the result, \n",
    "Completing the missing values, common values were increasing for all users and movies, so the RMSE is not good idea.\n",
    "    \n",
    "To improve the RMSE, we need to fill the missing values with a better value or\n",
    "we should use the another algorithm such as Collaborative Filtering(jaccard similairty which is based on the user-user similarity).\n",
    "\n",
    "If the matrix has dense data, NMF is a good choice. It helps to reduce the dimensionality and finding the latent features of the data.\n"
   ]
  },
  {
   "cell_type": "code",
   "execution_count": null,
   "id": "e2bdfb13",
   "metadata": {},
   "outputs": [],
   "source": []
  },
  {
   "cell_type": "markdown",
   "id": "41368e17",
   "metadata": {},
   "source": [
    "### References\n",
    "\n",
    "1. [NMF reference sckit learn ](https://scikit-learn.org/stable/modules/generated/sklearn.decomposition.NMF.html)\n",
    "2. [レコメンドアルゴリズム入門：基礎から応用まで実装に必要な知識を解説(Japanese website about recommendation)](https://qiita.com/birdwatcher/items/b60822bdf9be267e1328)\n",
    "3. [Non-negative matrix factorization for recommendation systems](https://medium.com/logicai/non-negative-matrix-factorization-for-recommendation-systems-985ca8d5c16c#:~:text=Let%20me%20introduce%20you%20to%20Non-negative)"
   ]
  }
 ],
 "metadata": {
  "colab": {
   "name": "HW2-clustering.ipynb",
   "provenance": []
  },
  "kernelspec": {
   "display_name": "Python 3",
   "language": "python",
   "name": "python3"
  },
  "language_info": {
   "codemirror_mode": {
    "name": "ipython",
    "version": 3
   },
   "file_extension": ".py",
   "mimetype": "text/x-python",
   "name": "python",
   "nbconvert_exporter": "python",
   "pygments_lexer": "ipython3",
   "version": "3.8.10"
  }
 },
 "nbformat": 4,
 "nbformat_minor": 5
}
